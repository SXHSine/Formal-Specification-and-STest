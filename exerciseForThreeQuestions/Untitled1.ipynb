{
 "cells": [
  {
   "cell_type": "code",
   "execution_count": 2,
   "metadata": {
    "collapsed": false
   },
   "outputs": [
    {
     "name": "stdout",
     "output_type": "stream",
     "text": [
      "12\n",
      "12\n"
     ]
    }
   ],
   "source": [
    "s = '1'\n",
    "s = s+'2'\n",
    "print(s)\n",
    "if '2' in s:\n",
    "    print(s)"
   ]
  },
  {
   "cell_type": "code",
   "execution_count": 4,
   "metadata": {
    "collapsed": false
   },
   "outputs": [
    {
     "name": "stdout",
     "output_type": "stream",
     "text": [
      "3\n",
      "2\n",
      "1\n",
      "0\n"
     ]
    }
   ],
   "source": [
    "for i in range(0,4)[::-1]:\n",
    "    print(i)"
   ]
  },
  {
   "cell_type": "code",
   "execution_count": 6,
   "metadata": {
    "collapsed": false
   },
   "outputs": [
    {
     "name": "stdout",
     "output_type": "stream",
     "text": [
      "1\n"
     ]
    }
   ],
   "source": [
    "print(s[0])"
   ]
  },
  {
   "cell_type": "code",
   "execution_count": 9,
   "metadata": {
    "collapsed": false
   },
   "outputs": [
    {
     "name": "stdout",
     "output_type": "stream",
     "text": [
      "['12345678']\n"
     ]
    }
   ],
   "source": [
    "s='123456'\n",
    "ss=[]\n",
    "ss.append(s[0:len(s)-1]+'678')\n",
    "print(ss)"
   ]
  },
  {
   "cell_type": "code",
   "execution_count": 12,
   "metadata": {
    "collapsed": false
   },
   "outputs": [
    {
     "name": "stdout",
     "output_type": "stream",
     "text": [
      "12345\n",
      "23456\n"
     ]
    }
   ],
   "source": [
    "print(s[0:len(s)-1])\n",
    "print(s[1:len(s)])"
   ]
  },
  {
   "cell_type": "code",
   "execution_count": 31,
   "metadata": {
    "collapsed": false
   },
   "outputs": [
    {
     "name": "stdout",
     "output_type": "stream",
     "text": [
      "<class 'list'>\n",
      "False\n"
     ]
    }
   ],
   "source": [
    "# import \n",
    "def removeDuplicate(s):  \n",
    "    s = list(s)  \n",
    "#     s = %%python3.list(s)\n",
    "#     s = ','.join(s)\n",
    "    s.sort() #对给定字符串排序，不排序可能移除不完整  \n",
    "    print(type(s))\n",
    "    for i in s:  \n",
    "        while s.count(i) > 1:  \n",
    "            return False  \n",
    "    return True  \n",
    "\n",
    "s1 = 'charminga'  \n",
    "print(removeDuplicate(s1))"
   ]
  },
  {
   "cell_type": "code",
   "execution_count": 18,
   "metadata": {
    "collapsed": false
   },
   "outputs": [
    {
     "name": "stdout",
     "output_type": "stream",
     "text": [
      "abcdf\n"
     ]
    }
   ],
   "source": [
    "s1='abc'\n",
    "s2='cdf'\n",
    "if s1[len(s1)-1]==s2[0]:\n",
    "    print(s1[0:len(s1)-1]+s2)"
   ]
  },
  {
   "cell_type": "code",
   "execution_count": 24,
   "metadata": {
    "collapsed": false
   },
   "outputs": [
    {
     "name": "stdout",
     "output_type": "stream",
     "text": [
      "['a', 'c']\n"
     ]
    }
   ],
   "source": [
    "s = []\n",
    "s.append('a')\n",
    "s.append('b')\n",
    "s.append('c')\n",
    "for i in range(0,len(s))[::-1]:\n",
    "    if s[i]=='b':\n",
    "        s.pop(i)\n",
    "#     print(s[i])\n",
    "# s.pop(1)\n",
    "print(s)"
   ]
  },
  {
   "cell_type": "code",
   "execution_count": 32,
   "metadata": {
    "collapsed": false
   },
   "outputs": [
    {
     "name": "stdout",
     "output_type": "stream",
     "text": [
      "['b', 'c', 'd', 'a']\n"
     ]
    }
   ],
   "source": [
    "list0=['b','c', 'd','b','c','a','a']\n",
    "list1=sorted(set(list0),key=list0.index) # sorted output\n",
    "print( list1)"
   ]
  },
  {
   "cell_type": "code",
   "execution_count": null,
   "metadata": {
    "collapsed": true
   },
   "outputs": [],
   "source": []
  }
 ],
 "metadata": {
  "kernelspec": {
   "display_name": "Python 3",
   "language": "python",
   "name": "python3"
  },
  "language_info": {
   "codemirror_mode": {
    "name": "ipython",
    "version": 3
   },
   "file_extension": ".py",
   "mimetype": "text/x-python",
   "name": "python",
   "nbconvert_exporter": "python",
   "pygments_lexer": "ipython3",
   "version": "3.6.0"
  }
 },
 "nbformat": 4,
 "nbformat_minor": 2
}
